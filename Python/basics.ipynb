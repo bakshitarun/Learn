{
 "cells": [
  {
   "cell_type": "code",
   "execution_count": 3,
   "id": "9ab83b72",
   "metadata": {},
   "outputs": [
    {
     "name": "stdout",
     "output_type": "stream",
     "text": [
      "Hello, Tarun - you are 30 years old.\n",
      "<class 'str'>\n",
      "<class 'int'>\n",
      "<class 'float'>\n"
     ]
    }
   ],
   "source": [
    "# Cell 1: print & type\n",
    "name = \"Tarun\"\n",
    "age = 30\n",
    "print(\"Hello,\", name, \"- you are\", age, \"years old.\")\n",
    "\n",
    "# Checking types\n",
    "print(type(name))   # <class 'str'>\n",
    "print(type(age))    # <class 'int'>\n",
    "print(type(3.14))   # <class 'float'>\n"
   ]
  },
  {
   "cell_type": "code",
   "execution_count": 5,
   "id": "dc5d48e4",
   "metadata": {},
   "outputs": [
    {
     "name": "stdout",
     "output_type": "stream",
     "text": [
      "HELLO WORLD FROM COLAB\n",
      "hello world from colab\n",
      "Hello World From Colab\n",
      "3\n",
      "1\n",
      "I like oranges\n",
      "ho ho ha ha\n"
     ]
    }
   ],
   "source": [
    "# Cell 2: String methods\n",
    "text = \"hello world from colab\"\n",
    "\n",
    "# upper, lower, title\n",
    "print(text.upper())   # \"HELLO WORLD FROM COLAB\"\n",
    "print(text.lower())   # \"hello world from colab\"\n",
    "print(text.title())   # \"Hello World From Colab\"\n",
    "\n",
    "# count\n",
    "sentence = \"spam spam eggs spam\"\n",
    "print(sentence.count(\"spam\"))        # 3\n",
    "print(sentence.count(\"spam\", 5, 15)) # counts only between indexes 5–15\n",
    "\n",
    "# replace\n",
    "msg = \"I like apples\"\n",
    "new_msg = msg.replace(\"apples\", \"oranges\")\n",
    "print(new_msg)                        # \"I like oranges\"\n",
    "\n",
    "# limit number of replacements\n",
    "s = \"ha ha ha ha\"\n",
    "print(s.replace(\"ha\", \"ho\", 2))      # \"ho ho ha ha\"\n"
   ]
  },
  {
   "cell_type": "code",
   "execution_count": null,
   "id": "fd6ad56f",
   "metadata": {},
   "outputs": [],
   "source": []
  },
  {
   "cell_type": "code",
   "execution_count": null,
   "id": "60ccac4b",
   "metadata": {},
   "outputs": [],
   "source": []
  },
  {
   "cell_type": "code",
   "execution_count": null,
   "id": "306d8b04",
   "metadata": {},
   "outputs": [],
   "source": []
  },
  {
   "cell_type": "code",
   "execution_count": null,
   "id": "89de79ba",
   "metadata": {},
   "outputs": [],
   "source": []
  },
  {
   "cell_type": "code",
   "execution_count": null,
   "id": "454607f7",
   "metadata": {},
   "outputs": [],
   "source": []
  },
  {
   "cell_type": "code",
   "execution_count": null,
   "id": "3539abdb",
   "metadata": {},
   "outputs": [],
   "source": []
  },
  {
   "cell_type": "code",
   "execution_count": null,
   "id": "f99dd3fc",
   "metadata": {},
   "outputs": [],
   "source": []
  }
 ],
 "metadata": {
  "kernelspec": {
   "display_name": "Python 3",
   "language": "python",
   "name": "python3"
  },
  "language_info": {
   "codemirror_mode": {
    "name": "ipython",
    "version": 3
   },
   "file_extension": ".py",
   "mimetype": "text/x-python",
   "name": "python",
   "nbconvert_exporter": "python",
   "pygments_lexer": "ipython3",
   "version": "3.10.11"
  }
 },
 "nbformat": 4,
 "nbformat_minor": 5
}
