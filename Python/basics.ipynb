{
 "cells": [
  {
   "cell_type": "markdown",
   "id": "053638ed",
   "metadata": {},
   "source": [
    "# Printing and Variable Types\n",
    "This section demonstrates how to print variables and check their types in Python. Variables can store different data types such as strings and integers. The `print()` function outputs text, and the `type()` function shows the data type of a variable."
   ]
  },
  {
   "cell_type": "code",
   "execution_count": null,
   "id": "9ab83b72",
   "metadata": {},
   "outputs": [
    {
     "name": "stdout",
     "output_type": "stream",
     "text": [
      "Hello, Tarun - you are 30 years old.\n"
     ]
    }
   ],
   "source": [
    "name = \"Tarun\"\n",
    "age = 30\n",
    "print(\"Hello,\", name, \"- you are\", age, \"years old.\")"
   ]
  },
  {
   "cell_type": "markdown",
   "id": "3b97bd93",
   "metadata": {},
   "source": [
    "# Checking Types\n",
    "You can use the `type()` function to check the type of any variable or value. This is useful for understanding what kind of data you are working with."
   ]
  },
  {
   "cell_type": "code",
   "execution_count": null,
   "id": "0a82a880",
   "metadata": {},
   "outputs": [
    {
     "name": "stdout",
     "output_type": "stream",
     "text": [
      "<class 'str'>\n",
      "<class 'int'>\n",
      "<class 'float'>\n"
     ]
    }
   ],
   "source": [
    "print(type(name))   # <class 'str'>\n",
    "print(type(age))    # <class 'int'>\n",
    "print(type(3.14))   # <class 'float'>"
   ]
  },
  {
   "cell_type": "markdown",
   "id": "bf0b0870",
   "metadata": {},
   "source": [
    "# String Methods\n",
    "Python provides many built-in methods for strings, such as changing case, counting substrings, and replacing text. These methods help manipulate and analyze text data easily."
   ]
  },
  {
   "cell_type": "code",
   "execution_count": null,
   "id": "dc5d48e4",
   "metadata": {},
   "outputs": [
    {
     "name": "stdout",
     "output_type": "stream",
     "text": [
      "HELLO WORLD FROM COLAB\n",
      "hello world from colab\n",
      "Hello World From Colab\n",
      "3\n",
      "1\n",
      "I like oranges\n",
      "ho ho ha ha\n"
     ]
    }
   ],
   "source": [
    "text = \"hello world from colab\"\n",
    "\n",
    "# upper, lower, title\n",
    "print(text.upper())   # \"HELLO WORLD FROM COLAB\"\n",
    "print(text.lower())   # \"hello world from colab\"\n",
    "print(text.title())   # \"Hello World From Colab\"\n",
    "\n",
    "# count\n",
    "sentence = \"spam spam eggs spam\"\n",
    "print(sentence.count(\"spam\"))        # 3\n",
    "print(sentence.count(\"spam\", 5, 15)) # counts only between indexes 5–15\n",
    "\n",
    "# replace\n",
    "msg = \"I like apples\"\n",
    "new_msg = msg.replace(\"apples\", \"oranges\")\n",
    "print(new_msg)                        # \"I like oranges\"\n",
    "\n",
    "# limit number of replacements\n",
    "s = \"ha ha ha ha\"\n",
    "print(s.replace(\"ha\", \"ho\", 2))      # \"ho ho ha ha\""
   ]
  },
  {
   "cell_type": "markdown",
   "id": "1e3b44dd",
   "metadata": {},
   "source": [
    "# Variables and String Operations\n",
    "Variables are used to store data in Python. You can assign values to variables using the `=` operator. Strings can be defined using either single quotes (`'`) or double quotes (`\"`).\n",
    "\n",
    "When printing, you can use single or double quotes to handle apostrophes or quotes inside the string. You can also concatenate (join) two strings using the `+` operator."
   ]
  },
  {
   "cell_type": "code",
   "execution_count": null,
   "id": "3923445a",
   "metadata": {},
   "outputs": [],
   "source": [
    "# Assigning variables\n",
    "first_name = 'John'\n",
    "last_name = \"Doe\"\n",
    "\n",
    "# Using single and double quotes in strings\n",
    "print('It\\'s a sunny day!')  # Using escape character\n",
    "print(\"He said, 'Hello!'\")   # Mixing quotes\n",
    "\n",
    "# Concatenating two strings\n",
    "full_name = first_name + \" \" + last_name\n",
    "print(\"Full Name:\", full_name)"
   ]
  },
  {
   "cell_type": "markdown",
   "id": "c236ec50",
   "metadata": {},
   "source": [
    "# Using Quotes Inside Strings\n",
    "If you need to use a single quote (`'`) inside a string, you can either use double quotes to define the string or escape the single quote with a backslash (`\\`). Similarly, if you need to use double quotes (`\"`) inside a string, you can use single quotes to define the string or escape the double quote."
   ]
  },
  {
   "cell_type": "code",
   "execution_count": null,
   "id": "498a8d38",
   "metadata": {},
   "outputs": [],
   "source": [
    "# Using single quote inside a string defined with double quotes\n",
    "sentence1 = \"It's a beautiful day!\"\n",
    "print(sentence1)\n",
    "\n",
    "# Using double quote inside a string defined with single quotes\n",
    "sentence2 = 'He said, \"Hello!\"'\n",
    "print(sentence2)\n",
    "\n",
    "# Escaping quotes\n",
    "sentence3 = 'It\\'s a beautiful day!'\n",
    "print(sentence3)\n",
    "sentence4 = \"He said, \\\"Hello!\\\"\"\n",
    "print(sentence4)"
   ]
  },
  {
   "cell_type": "markdown",
   "id": "42becbe0",
   "metadata": {},
   "source": [
    "# Lists in Python\n",
    "A list is a collection of items that is ordered and changeable. Lists can contain elements of different types, but are most commonly used to store sequences of items of the same type. Lists are defined using square brackets `[]` and items are separated by commas."
   ]
  },
  {
   "cell_type": "code",
   "execution_count": null,
   "id": "289c2b1f",
   "metadata": {},
   "outputs": [],
   "source": [
    "# Creating a list\n",
    "fruits = [\"apple\", \"banana\", \"cherry\"]\n",
    "print(fruits)"
   ]
  },
  {
   "cell_type": "markdown",
   "id": "c37afeef",
   "metadata": {},
   "source": [
    "# Accessing and Modifying List Elements\n",
    "You can access elements by their index and modify them directly."
   ]
  },
  {
   "cell_type": "code",
   "execution_count": null,
   "id": "7d2b80b6",
   "metadata": {},
   "outputs": [],
   "source": [
    "# Accessing elements\n",
    "print(fruits[0])  # First element\n",
    "print(fruits[-1]) # Last element\n",
    "\n",
    "# Modifying elements\n",
    "fruits[1] = \"blueberry\"\n",
    "print(fruits)"
   ]
  },
  {
   "cell_type": "markdown",
   "id": "f530da57",
   "metadata": {},
   "source": [
    "# Adding and Inserting Elements\n",
    "Use `append()` to add to the end, and `insert()` to add at a specific position."
   ]
  },
  {
   "cell_type": "code",
   "execution_count": null,
   "id": "cc6c6436",
   "metadata": {},
   "outputs": [],
   "source": [
    "# Adding elements\n",
    "fruits.append(\"orange\")\n",
    "print(fruits)\n",
    "\n",
    "# Inserting elements at a specific position\n",
    "fruits.insert(1, \"kiwi\")  # Insert 'kiwi' at index 1\n",
    "print(fruits)"
   ]
  },
  {
   "cell_type": "markdown",
   "id": "a97f6248",
   "metadata": {},
   "source": [
    "# Removing Elements\n",
    "Use `remove()` to delete by value, `pop()` to remove by index and return the value, and `del` to delete by index or slice."
   ]
  },
  {
   "cell_type": "code",
   "execution_count": null,
   "id": "ccc29ee6",
   "metadata": {},
   "outputs": [],
   "source": [
    "# Removing elements by value\n",
    "fruits.remove(\"apple\")\n",
    "print(fruits)\n",
    "\n",
    "# Using pop()\n",
    "removed = fruits.pop()  # Removes last element\n",
    "print(\"After pop():\", fruits, \"| Removed:\", removed)\n",
    "\n",
    "removed = fruits.pop(1)  # Removes element at index 1\n",
    "print(\"After pop(1):\", fruits, \"| Removed:\", removed)\n",
    "\n",
    "# Using del\n",
    "numbers = [0, 1, 2, 3, 4, 5]\n",
    "del numbers[2]  # Delete element at index 2\n",
    "print(\"After del numbers[2]:\", numbers)\n",
    "\n",
    "del numbers[1:3]  # Delete a slice (index 1 and 2)\n",
    "print(\"After del numbers[1:3]:\", numbers)"
   ]
  },
  {
   "cell_type": "markdown",
   "id": "8836db2a",
   "metadata": {},
   "source": [
    "# Sorting a List\n",
    "You can sort a list in place using the `sort()` method. By default, it sorts in ascending order. To sort in descending order, use the `reverse=True` keyword argument."
   ]
  },
  {
   "cell_type": "code",
   "execution_count": null,
   "id": "1ecdc2bf",
   "metadata": {},
   "outputs": [],
   "source": [
    "fruits = [\"banana\", \"cherry\", \"orange\", \"kiwi\", \"blueberry\"]\n",
    "fruits.sort()\n",
    "print(\"Ascending:\", fruits)\n",
    "\n",
    "fruits.sort(reverse=True)\n",
    "print(\"Descending:\", fruits)"
   ]
  },
  {
   "cell_type": "markdown",
   "id": "3b0816c1",
   "metadata": {},
   "source": [
    "# List Slicing\n",
    "List slicing allows you to access a subset of elements from a list by specifying a start, stop, and optional step value using the syntax `list[start:stop:step]`."
   ]
  },
  {
   "cell_type": "code",
   "execution_count": null,
   "id": "9559b8f7",
   "metadata": {},
   "outputs": [],
   "source": [
    "numbers = [0, 1, 2, 3, 4, 5, 6, 7, 8, 9]\n",
    "print(numbers[2:6])    # Elements from index 2 to 5: [2, 3, 4, 5]\n",
    "print(numbers[:4])     # Elements from start to index 3: [0, 1, 2, 3]\n",
    "print(numbers[5:])     # Elements from index 5 to end: [5, 6, 7, 8, 9]\n",
    "print(numbers[::2])    # Every second element: [0, 2, 4, 6, 8]\n",
    "print(numbers[1:8:3])  # Elements from index 1 to 7, step 3: [1, 4, 7]\n",
    "print(numbers[::-1])   # [9, 8, 7, 6, 5, 4, 3, 2, 1, 0]"
   ]
  },
  {
   "cell_type": "markdown",
   "id": "32135f1c",
   "metadata": {},
   "source": [
    "# More Insert Examples\n",
    "You can use `insert()` at different positions in a list."
   ]
  },
  {
   "cell_type": "code",
   "execution_count": null,
   "id": "1166b563",
   "metadata": {},
   "outputs": [],
   "source": [
    "numbers2 = [1, 2, 4, 5]\n",
    "numbers2.insert(2, 3)\n",
    "print(numbers2)\n",
    "numbers2.insert(0, 0)\n",
    "print(numbers2)\n",
    "numbers2.insert(len(numbers2), 6)\n",
    "print(numbers2)"
   ]
  },
  {
   "cell_type": "markdown",
   "id": "664b570c",
   "metadata": {},
   "source": [
    "# Updating a List\n",
    "You can update a list by assigning a new value to an element at a specific index, or by updating a slice of the list with new values. This allows you to change one or more elements at once."
   ]
  },
  {
   "cell_type": "code",
   "execution_count": null,
   "id": "c29939ff",
   "metadata": {},
   "outputs": [],
   "source": [
    "# Updating a single element\n",
    "numbers = [10, 20, 30, 40, 50]\n",
    "numbers[2] = 99  # Change the value at index 2\n",
    "print(numbers)   # [10, 20, 99, 40, 50]\n",
    "\n",
    "# Updating multiple elements using a slice\n",
    "numbers[1:4] = [21, 22, 23]\n",
    "print(numbers)   # [10, 21, 22, 23, 50]"
   ]
  },
  {
   "cell_type": "markdown",
   "id": "bc906af2",
   "metadata": {},
   "source": [
    "# Copying a List\n",
    "Assigning a list to a new variable creates a reference, not a copy. To make a true copy, use the `copy()` method, list slicing, or the `list()` constructor. This is important to avoid unintentional changes to both lists."
   ]
  },
  {
   "cell_type": "code",
   "execution_count": null,
   "id": "21c67353",
   "metadata": {},
   "outputs": [],
   "source": [
    "# Reference vs Copy\n",
    "original = [1, 2, 3]\n",
    "ref = original  # This is a reference, not a copy\n",
    "ref[0] = 99\n",
    "print(\"original:\", original)  # [99, 2, 3]\n",
    "print(\"ref:\", ref)            # [99, 2, 3]\n",
    "\n",
    "# Using copy()\n",
    "original = [1, 2, 3]\n",
    "copy1 = original.copy()\n",
    "copy1[0] = 42\n",
    "print(\"original:\", original)  # [1, 2, 3]\n",
    "print(\"copy1:\", copy1)        # [42, 2, 3]\n",
    "\n",
    "# Using slicing\n",
    "copy2 = original[:]\n",
    "copy2[1] = 77\n",
    "print(\"original:\", original)  # [1, 2, 3]\n",
    "print(\"copy2:\", copy2)        # [1, 77, 3]\n",
    "\n",
    "# Using list() constructor\n",
    "copy3 = list(original)\n",
    "copy3[2] = 88\n",
    "print(\"original:\", original)  # [1, 2, 3]\n",
    "print(\"copy3:\", copy3)        # [1, 2, 88]"
   ]
  },
  {
   "cell_type": "markdown",
   "id": "1fff3434",
   "metadata": {},
   "source": [
    "# Dictionaries in Python\n",
    "A dictionary is a collection of key-value pairs. Keys must be unique and immutable, while values can be of any type. Dictionaries are defined using curly braces `{}`."
   ]
  },
  {
   "cell_type": "code",
   "execution_count": null,
   "id": "8b489e1e",
   "metadata": {},
   "outputs": [],
   "source": [
    "# Creating a dictionary\n",
    "person = {\"name\": \"Alice\", \"age\": 25, \"city\": \"New York\"}\n",
    "print(person)"
   ]
  },
  {
   "cell_type": "markdown",
   "id": "7aed19ac",
   "metadata": {},
   "source": [
    "# Accessing Keys, Values, and Items\n",
    "Use `keys()`, `values()`, and `items()` to access the keys, values, and key-value pairs of a dictionary."
   ]
  },
  {
   "cell_type": "code",
   "execution_count": null,
   "id": "bd4bf597",
   "metadata": {},
   "outputs": [],
   "source": [
    "print(person.keys())    # dict_keys(['name', 'age', 'city'])\n",
    "print(person.values())  # dict_values(['Alice', 25, 'New York'])\n",
    "print(person.items())   # dict_items([('name', 'Alice'), ('age', 25), ('city', 'New York')])"
   ]
  },
  {
   "cell_type": "markdown",
   "id": "7895102f",
   "metadata": {},
   "source": [
    "# Adding and Updating Elements\n",
    "You can add a new key-value pair or update an existing value by assignment. Use `update()` to update multiple key-value pairs at once."
   ]
  },
  {
   "cell_type": "code",
   "execution_count": null,
   "id": "fbc4a480",
   "metadata": {},
   "outputs": [],
   "source": [
    "person[\"email\"] = \"alice@example.com\"  # Add new key-value pair\n",
    "person[\"age\"] = 26                      # Update existing value\n",
    "print(person)\n",
    "\n",
    "# Update multiple values\n",
    "person.update({\"city\": \"Boston\", \"age\": 27})\n",
    "print(person)"
   ]
  },
  {
   "cell_type": "markdown",
   "id": "2f95fef1",
   "metadata": {},
   "source": [
    "# Removing Elements\n",
    "Use `pop()` to remove a key and return its value. Use `del` to remove a key-value pair by key. The `clear()` method removes all items."
   ]
  },
  {
   "cell_type": "code",
   "execution_count": null,
   "id": "0605d848",
   "metadata": {},
   "outputs": [],
   "source": [
    "# Using pop()\n",
    "age = person.pop(\"age\")\n",
    "print(\"Removed age:\", age)\n",
    "print(person)\n",
    "\n",
    "# Using del\n",
    "if \"email\" in person:\n",
    "    del person[\"email\"]\n",
    "print(person)\n",
    "\n",
    "# Using clear()\n",
    "person.clear()\n",
    "print(person)  # {}"
   ]
  },
  {
   "cell_type": "markdown",
   "id": "add6c722",
   "metadata": {},
   "source": [
    "# Copying a Dictionary\n",
    "Assigning a dictionary to a new variable creates a reference. Use `copy()` or `dict()` to make a true copy."
   ]
  },
  {
   "cell_type": "code",
   "execution_count": null,
   "id": "0231569e",
   "metadata": {},
   "outputs": [],
   "source": [
    "original = {\"a\": 1, \"b\": 2}\n",
    "ref = original\n",
    "ref[\"a\"] = 99\n",
    "print(\"original:\", original)  # {'a': 99, 'b': 2}\n",
    "print(\"ref:\", ref)            # {'a': 99, 'b': 2}\n",
    "\n",
    "# Using copy()\n",
    "original = {\"a\": 1, \"b\": 2}\n",
    "copy1 = original.copy()\n",
    "copy1[\"a\"] = 42\n",
    "print(\"original:\", original)  # {'a': 1, 'b': 2}\n",
    "print(\"copy1:\", copy1)        # {'a': 42, 'b': 2}\n",
    "\n",
    "# Using dict()\n",
    "copy2 = dict(original)\n",
    "copy2[\"b\"] = 77\n",
    "print(\"original:\", original)  # {'a': 1, 'b': 2}\n",
    "print(\"copy2:\", copy2)        # {'a': 1, 'b': 77}"
   ]
  }
 ],
 "metadata": {
  "kernelspec": {
   "display_name": "Python 3",
   "language": "python",
   "name": "python3"
  },
  "language_info": {
   "codemirror_mode": {
    "name": "ipython",
    "version": 3
   },
   "file_extension": ".py",
   "mimetype": "text/x-python",
   "name": "python",
   "nbconvert_exporter": "python",
   "pygments_lexer": "ipython3",
   "version": "3.10.11"
  }
 },
 "nbformat": 4,
 "nbformat_minor": 5
}
